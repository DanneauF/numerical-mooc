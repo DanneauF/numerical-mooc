{
 "cells": [
  {
   "cell_type": "markdown",
   "metadata": {},
   "source": [
    "## PHYS-F-302 : Mécanique Quantique, partie numérique\n",
    "\n",
    "Aurélien Manera\n",
    "Florian Danneau"
   ]
  },
  {
   "cell_type": "markdown",
   "metadata": {},
   "source": [
    "Nous allons décrire le flux de Stokes dans une cavitée carrée en résolvant une équation biharmonique. Le flux de Stokes nous permet de simplifier les équations de Navier-Stokes, en éliminant la non-linéarité. "
   ]
  },
  {
   "cell_type": "markdown",
   "metadata": {},
   "source": [
    "Il faut tout d'abord discétiser une équation biharmonique :\n",
    "\n",
    "\\begin{equation}\n",
    "\\nabla^{4}\\psi = 0\n",
    "\\end{equation}\n"
   ]
  },
  {
   "cell_type": "markdown",
   "metadata": {},
   "source": [
    "On a donc :\n",
    "\n",
    "\\begin{equation}\n",
    "\\nabla^{2}(\\nabla^{2}\\psi) = 0\n",
    "\\end{equation}\n",
    "\n",
    "\\begin{equation}\n",
    "\\partial_{x}^{4}\\psi + \\partial_{y}^{4}\\psi + 2\\partial_{x}\\partial_{y}\\psi = 0 \n",
    "\\end{equation}"
   ]
  },
  {
   "cell_type": "markdown",
   "metadata": {},
   "source": [
    "Maintenant, nous allons la discrétiser :\n",
    "    \n",
    "\\begin{equation}\n",
    "\\partial_{x}^{4}\\psi = \\dfrac{\\psi[i-2,j]-4\\psi[i-1,j] + 6\\psi[i,j]-4\\psi[i+1,j]+ \\psi[i+2,j]}{dx^{4}}\n",
    "\\end{equation}\n",
    "\n",
    "\\begin{equation}\n",
    "\\partial_{y}^{4}\\psi = \\dfrac{\\psi[i,j-2]-4\\psi[i,j-1] + 6\\psi[i,j]-4\\psi[i,j+1]+ \\psi[i,j+2]}{dy^{4}}\n",
    "\\end{equation}\n",
    "\n",
    "\\begin{equation}\n",
    "\\partial_{x}^{2}\\partial_{y}^{2}\\psi = \\dfrac{\\psi[i-1,j+1]-2\\psi[i,j+1] + \\psi[i+1,j+1]-2\\psi[i-1,j]+ 4\\psi[i,j]-2\\psi[i+1,j]+\\psi[i-1,j-1]-2\\psi[i,j-1]+\\psi[i+1,j-1]}{dx^{2}dy^{2}} \n",
    "\\end{equation}"
   ]
  },
  {
   "cell_type": "markdown",
   "metadata": {},
   "source": [
    "\\begin{equation}\n",
    "\\nabla^{4}\\psi = \\dfrac{\\psi[i-2,j]-4\\psi[i-1,j] + 6\\psi[i,j]-4\\psi[i+1,j]+ \\psi[i+2,j]}{dx^{4}} + \\dfrac{\\psi[i,j-2]-4\\psi[i,j-1] + 6\\psi[i,j]-4\\psi[i,j+1]+ \\psi[i,j+2]}{dy^{4}}+ 2\\dfrac{\\psi[i-1,j+1]-2\\psi[i,j+1] + \\psi[i+1,j+1]-2\\psi[i-1,j]+ 4\\psi[i,j]-2\\psi[i+1,j]+\\psi[i-1,j-1]-2\\psi[i,j-1]+\\psi[i+1,j-1]}{dx^{2}dy^{2}} = 0\n",
    "\\end{equation}"
   ]
  },
  {
   "cell_type": "markdown",
   "metadata": {},
   "source": [
    "Où nous avons utilisé le lien suivant pour trouver les coefficients :\n",
    "https://en.wikipedia.org/wiki/Finite_difference_coefficient"
   ]
  },
  {
   "cell_type": "markdown",
   "metadata": {},
   "source": [
    "Nous importons ce dont nous avons besoin pour résoudre notre problème."
   ]
  },
  {
   "cell_type": "code",
   "execution_count": 1,
   "metadata": {
    "collapsed": true
   },
   "outputs": [],
   "source": [
    "import matplotlib.pyplot as plt\n",
    "import numpy\n",
    "import scipy.sparse as sp\n",
    "import scipy.sparse.linalg\n",
    "from math import pi, cos, sin\n",
    "%matplotlib inline\n",
    "from matplotlib import rcParams \n",
    "rcParams['font.family'] = 'serif'\n",
    "rcParams['font.size'] = 16"
   ]
  },
  {
   "cell_type": "markdown",
   "metadata": {
    "collapsed": true
   },
   "source": [
    "On va également utiliser les paramètres de discrétisation donné dans le MOOC."
   ]
  },
  {
   "cell_type": "code",
   "execution_count": 2,
   "metadata": {},
   "outputs": [
    {
     "name": "stdout",
     "output_type": "stream",
     "text": [
      "[[ 0.  0.  0. ...,  0.  0.  0.]\n",
      " [ 0.  0.  0. ...,  0.  0.  0.]\n",
      " [ 0.  0.  0. ...,  0.  0.  0.]\n",
      " ..., \n",
      " [ 0.  0.  0. ...,  0.  0.  0.]\n",
      " [ 0.  0.  0. ...,  0.  0.  0.]\n",
      " [ 0.  0.  0. ...,  0.  0.  0.]]\n"
     ]
    }
   ],
   "source": [
    "\n",
    "nx = 41\n",
    "ny = 41\n",
    "\n",
    "l = 1.\n",
    "h = 1.\n",
    "\n",
    "dx = l/(nx-1)\n",
    "dy = h/(ny-1)\n",
    "\n",
    "l1_target = 1e-8\n",
    "\n",
    "x  = numpy.linspace(0,l,nx)\n",
    "y  = numpy.linspace(0,h,ny)\n",
    "X,Y = numpy.meshgrid(x,y)\n",
    "\n",
    "b = numpy.zeros((nx,ny))\n",
    "\n",
    "p_i = numpy.zeros((nx,ny))\n",
    "\n",
    "print(p_i)"
   ]
  },
  {
   "cell_type": "code",
   "execution_count": 3,
   "metadata": {
    "collapsed": true
   },
   "outputs": [],
   "source": [
    "def L1norm(new, old):\n",
    "    norm = numpy.sum(numpy.abs(new-old))\n",
    "    return norm"
   ]
  },
  {
   "cell_type": "markdown",
   "metadata": {},
   "source": [
    "Pour implémenter nos conditions aux bords, nous allons d'abord les discértiser à l'aide du lien wikipédia."
   ]
  },
  {
   "cell_type": "markdown",
   "metadata": {},
   "source": [
    "On a donc que :\n",
    "\n",
    "\\begin{equation}\n",
    "\\partial_{x} \\psi = \\dfrac{\\dfrac{-3}{2}\\psi[i,j] + 2\\psi[i+1,j] \\dfrac{-1}{2} \\psi[i+2,j]}{dx}\n",
    "\\end{equation}\n",
    "\n",
    "\\begin{equation}\n",
    "\\partial_{y} \\psi = \\dfrac{\\dfrac{-3}{2}\\psi[i,j] + 2\\psi[i,j+1] \\dfrac{-1}{2} \\psi[i,j+2]}{dy}\n",
    "\\end{equation}\n"
   ]
  },
  {
   "cell_type": "markdown",
   "metadata": {},
   "source": [
    "Dès lors, on peut implémenter nos conditions aux bords comme suit :"
   ]
  },
  {
   "cell_type": "code",
   "execution_count": 31,
   "metadata": {},
   "outputs": [
    {
     "name": "stdout",
     "output_type": "stream",
     "text": [
      "[[ 0.  0.  0. ...,  0.  0.  0.]\n",
      " [ 0.  1.  1. ...,  1.  1.  0.]\n",
      " [ 0.  1.  1. ...,  1.  1.  0.]\n",
      " ..., \n",
      " [ 0.  1.  1. ...,  1.  1.  0.]\n",
      " [ 0.  1.  1. ...,  1.  1.  0.]\n",
      " [ 0.  0.  0. ...,  0.  0.  0.]]\n"
     ]
    }
   ],
   "source": [
    "cond1 = ((-3/2)*p_i[0,:] + 2*p_i[1,:] -(1/2)*p_i[2,:])/dx ==0\n",
    "cond2 = ((-3/2)*p_i[-1,:] + 2*p_i[0,:] -(1/2)*p_i[1,:])/dx ==0\n",
    "cond3 = ((-3/2)*p_i[:,0] + 2*p_i[:,1] -(1/2)*p_i[:,2])/dy ==0\n",
    "cond4 = ((-3/2)*p_i[:,-1] + 2*p_i[:,0] -(1/2)*p_i[:,1])/dy ==1"
   ]
  },
  {
   "cell_type": "code",
   "execution_count": 15,
   "metadata": {},
   "outputs": [
    {
     "name": "stdout",
     "output_type": "stream",
     "text": [
      "[[ 0.      0.      0.     ...,  0.      0.      0.    ]\n",
      " [ 0.      0.      0.     ...,  0.     -0.0125  0.    ]\n",
      " [ 0.      0.      0.     ...,  0.     -0.0125  0.    ]\n",
      " ..., \n",
      " [ 0.      0.      0.     ...,  0.     -0.0125  0.    ]\n",
      " [ 0.      0.      0.     ...,  0.     -0.0125  0.    ]\n",
      " [ 0.      0.      0.     ...,  0.      0.      0.    ]]\n"
     ]
    }
   ],
   "source": [
    "\n",
    "p_i[1,:] = (3/4)*p_i[0,:] + (1/4)*p_i[2,:] #forward\n",
    "p_i[-2,:] = (3/4)*p_i[-1,:] + (1/4)*p_i[-3,:] #backward\n",
    "p_i[:,1] = (3/4)*p_i[:,0] + (1/4)*p_i[:,2] #forward\n",
    "p_i[:,-2] = (1/4)*p_i[:,-3] + (3/4)*p_i[:,-1] - (dy/2) #backward\n",
    "p_i[0,:] = 0\n",
    "p_i[-1,:] = 0\n",
    "p_i[:,0] = 0\n",
    "p_i[:,-1] = 0\n",
    "print(p_i)"
   ]
  },
  {
   "cell_type": "markdown",
   "metadata": {},
   "source": [
    "On doit utiliser la méthode des gradients qui est donnée explicitement dans le mooc, pour résoudre l'équation."
   ]
  },
  {
   "cell_type": "code",
   "execution_count": 16,
   "metadata": {
    "collapsed": true
   },
   "outputs": [],
   "source": [
    "def L2_rel_error(p, pn): \n",
    "     ''' Compute the relative L2 norm of the difference \n",
    "     Parameters: \n",
    "     ---------- \n",
    "     p : array of float \n",
    "         array 1 \n",
    "     pn: array of float \n",
    "         array 2 \n",
    "     Returns: \n",
    "    ------- \n",
    "     Relative L2 norm of the difference \n",
    "     ''' \n",
    "     \n",
    "     return numpy.sqrt(numpy.sum((p - pn)**2)/numpy.sum(pn**2)) "
   ]
  },
  {
   "cell_type": "code",
   "execution_count": 45,
   "metadata": {
    "collapsed": true
   },
   "outputs": [],
   "source": [
    "def conjugate_gradient_2d(p, b, dx, dy, l2_target):\n",
    "    '''Performs cg relaxation\n",
    "    Assumes Dirichlet boundary conditions p=0\n",
    "    \n",
    "    Parameters:\n",
    "    ----------\n",
    "    p : 2D array of floats\n",
    "        Initial guess\n",
    "    b : 2D array of floats\n",
    "        Source term\n",
    "    dx: float\n",
    "        Mesh spacing in x direction\n",
    "    dy: float\n",
    "        Mesh spacing in y direction\n",
    "    l2_target: float\n",
    "        exit criterion\n",
    "        \n",
    "    Returns:\n",
    "    -------\n",
    "    p: 2D array of float\n",
    "        Distribution after relaxation\n",
    "    '''\n",
    "    ny, nx = p.shape\n",
    "    r  = numpy.zeros((ny,nx)) # residual\n",
    "    Ad  = numpy.zeros((ny,nx)) # to store result of matrix multiplication \n",
    "    \n",
    "    l2_norm = 1\n",
    "    iterations = 0\n",
    "    l2_conv = []\n",
    "    \n",
    "    # Step-0 We compute the initial residual and \n",
    "    # the first search direction is just this residual\n",
    "    r[2:-2,2:-2] = b[2:-2,2:-2] - (1*p[2:-2,:-4]+ 2*p[1:-3,1:-3]-8*p[2:-2,1:-3]+2*p[3:-1,1:-3]+1*p[:-4,2:-2]-8*p[1:-3,2:-2] +20*p[2:-2,2:-2]-8*p[3:-1,2:-2] +1*p[4:,2:-2]+2*p[1:-3,3:-1]-8*p[2:-2,3:-1]+2*p[3:-1,3:-1]+1*p[2:-2,4:])/dx**4\n",
    "    d = r.copy()\n",
    "    rho = numpy.sum(r*r)\n",
    "    Ad[2:-2,2:-2] = (+1)*(1*d[2:-2,:-4]+ 2*d[1:-3,1:-3]-8*d[2:-2,1:-3]+2*d[3:-1,1:-3]+1*d[:-4,2:-2]-8*d[1:-3,2:-2] +20*d[2:-2,2:-2]-8*d[3:-1,2:-2] +1*d[4:,2:-2]+2*d[1:-3,3:-1]-8*d[2:-2,3:-1]+2*d[3:-1,3:-1]+1*d[2:-2,4:])/dx**4\n",
    "    sigma = numpy.sum(d*Ad)\n",
    "    \n",
    "    # Iterations\n",
    "    while l2_norm > l2_target:\n",
    "\n",
    "        pk = p.copy()\n",
    "        rk = r.copy()\n",
    "        dk = d.copy()\n",
    "        \n",
    "        alpha = rho/sigma\n",
    "\n",
    "        p = pk + alpha*dk\n",
    "        r = rk- alpha*Ad\n",
    "        \n",
    "        rhop1 = numpy.sum(r*r)\n",
    "        beta = rhop1 / rho\n",
    "        rho = rhop1\n",
    "        \n",
    "        d = r + beta*dk\n",
    "        Ad[2:-2,2:-2] = (+1)*(1*d[2:-2,:-4]+ 2*d[1:-3,1:-3]-8*d[2:-2,1:-3]+2*d[3:-1,1:-3]+1*d[:-4,2:-2]-8*d[1:-3,2:-2] +20*d[2:-2,2:-2]-8*d[3:-1,2:-2] +1*d[4:,2:-2]+2*d[1:-3,3:-1]-8*d[2:-2,3:-1]+2*d[3:-1,3:-1]+1*d[2:-2,4:])/dx**4\n",
    "        sigma = numpy.sum(d*Ad)\n",
    "        \n",
    "        # BCs are automatically enforced\n",
    "        \n",
    "        l2_norm = L2_rel_error(pk,p)\n",
    "        iterations += 1\n",
    "        l2_conv.append(l2_norm)\n",
    "    \n",
    "    print('Number of CG iterations: {0:d}'.format(iterations))\n",
    "    return p, l2_conv     "
   ]
  },
  {
   "cell_type": "code",
   "execution_count": 46,
   "metadata": {},
   "outputs": [
    {
     "name": "stdout",
     "output_type": "stream",
     "text": [
      "Number of CG iterations: 613\n"
     ]
    }
   ],
   "source": [
    "p, l1_conv = conjugate_gradient_2d(p_i.copy(), b, dx, dy, l1_target)"
   ]
  },
  {
   "cell_type": "code",
   "execution_count": 47,
   "metadata": {},
   "outputs": [
    {
     "name": "stdout",
     "output_type": "stream",
     "text": [
      "[[  0.00000000e+00   0.00000000e+00   0.00000000e+00 ...,   0.00000000e+00\n",
      "    0.00000000e+00   0.00000000e+00]\n",
      " [  0.00000000e+00   0.00000000e+00   0.00000000e+00 ...,   0.00000000e+00\n",
      "   -1.25000000e-02   0.00000000e+00]\n",
      " [  0.00000000e+00   0.00000000e+00   9.26966030e-07 ...,  -7.85789397e-03\n",
      "   -1.25000000e-02   0.00000000e+00]\n",
      " ..., \n",
      " [  0.00000000e+00   0.00000000e+00   9.26933541e-07 ...,  -7.85789395e-03\n",
      "   -1.25000000e-02   0.00000000e+00]\n",
      " [  0.00000000e+00   0.00000000e+00   0.00000000e+00 ...,   0.00000000e+00\n",
      "   -1.25000000e-02   0.00000000e+00]\n",
      " [  0.00000000e+00   0.00000000e+00   0.00000000e+00 ...,   0.00000000e+00\n",
      "    0.00000000e+00   0.00000000e+00]]\n"
     ]
    }
   ],
   "source": [
    "print(p)"
   ]
  },
  {
   "cell_type": "code",
   "execution_count": 48,
   "metadata": {},
   "outputs": [
    {
     "data": {
      "text/plain": [
       "<matplotlib.image.AxesImage at 0x2ba2b1e22e8>"
      ]
     },
     "execution_count": 48,
     "metadata": {},
     "output_type": "execute_result"
    },
    {
     "data": {
      "image/png": "[encoded data removed]",
      "text/plain": [
       "<matplotlib.figure.Figure at 0x2ba2b18cc18>"
      ]
     },
     "metadata": {},
     "output_type": "display_data"
    }
   ],
   "source": [
    "plt.imshow(p)"
   ]
  },
  {
   "cell_type": "markdown",
   "metadata": {},
   "source": [
    "Quelle est la valeur de la fonction de flux $\\psi$ en (0.6;0.6)?"
   ]
  },
  {
   "cell_type": "code",
   "execution_count": 49,
   "metadata": {},
   "outputs": [
    {
     "data": {
      "text/plain": [
       "-0.038459941705737147"
      ]
     },
     "execution_count": 49,
     "metadata": {},
     "output_type": "execute_result"
    }
   ],
   "source": [
    "p[24,24]"
   ]
  },
  {
   "cell_type": "markdown",
   "metadata": {},
   "source": [
    "Quelle est la valeur de la fonction de flux $\\psi$ en (0.6;0.2)?"
   ]
  },
  {
   "cell_type": "code",
   "execution_count": 50,
   "metadata": {},
   "outputs": [
    {
     "data": {
      "text/plain": [
       "-0.0047040987714494506"
      ]
     },
     "execution_count": 50,
     "metadata": {},
     "output_type": "execute_result"
    }
   ],
   "source": [
    "p[24,8]"
   ]
  },
  {
   "cell_type": "markdown",
   "metadata": {},
   "source": [
    "Quelle est la valeur de la fonction de flux $\\psi$ en (0.6;0.4)?"
   ]
  },
  {
   "cell_type": "code",
   "execution_count": 51,
   "metadata": {},
   "outputs": [
    {
     "data": {
      "text/plain": [
       "-0.018196223439538597"
      ]
     },
     "execution_count": 51,
     "metadata": {},
     "output_type": "execute_result"
    }
   ],
   "source": [
    "p[24,16]"
   ]
  },
  {
   "cell_type": "markdown",
   "metadata": {},
   "source": [
    "Quelle est la valeur de la fonction de flux $\\psi$ en (0.6;0.8)?"
   ]
  },
  {
   "cell_type": "code",
   "execution_count": 52,
   "metadata": {},
   "outputs": [
    {
     "data": {
      "text/plain": [
       "-0.05054146923237994"
      ]
     },
     "execution_count": 52,
     "metadata": {},
     "output_type": "execute_result"
    }
   ],
   "source": [
    "p[24,32]"
   ]
  },
  {
   "cell_type": "markdown",
   "metadata": {
    "collapsed": true
   },
   "source": [
    "En conclusion, nous avons résolu notre problème, càd décrire le flux de Stokes dans une cavité carré."
   ]
  }
 ],
 "metadata": {
  "kernelspec": {
   "display_name": "Python 3",
   "language": "python",
   "name": "python3"
  },
  "language_info": {
   "codemirror_mode": {
    "name": "ipython",
    "version": 3
   },
   "file_extension": ".py",
   "mimetype": "text/x-python",
   "name": "python",
   "nbconvert_exporter": "python",
   "pygments_lexer": "ipython3",
   "version": "3.6.3"
  }
 },
 "nbformat": 4,
 "nbformat_minor": 2
}

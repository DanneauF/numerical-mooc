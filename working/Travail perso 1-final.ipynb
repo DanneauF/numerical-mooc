{
 "cells": [
  {
   "cell_type": "markdown",
   "metadata": {
    "collapsed": false
   },
   "source": [
    "Danneau Florian\n",
    "\n",
    "Garnier maxime\n",
    "\n",
    "Travail personnel numéro 1\n"
   ]
  },
  {
   "cell_type": "markdown",
   "metadata": {
    "collapsed": true
   },
   "source": [
    "1) l'équation différentielle de ce problème se présente comme :\n",
    "\n",
    "r'' = G . (Mterre+MLune) . r / r^(3) \n",
    "Elle est trouvé en résolvant le problème avec l'aide du cours de mécanique analytique de Mr.Gaspard vu l'an passé et la page wikipédia relative au problème à 2 corps\n",
    "https://fr.wikipedia.org/wiki/Probl%C3%A8me_%C3%A0_deux_corps"
   ]
  },
  {
   "cell_type": "code",
   "execution_count": 7,
   "metadata": {
    "collapsed": true
   },
   "outputs": [],
   "source": [
    "from math import sin, cos, log, pi  #On importe le matériel nécessaire à la résulution du problème\n",
    "import numpy\n",
    "from matplotlib import pyplot\n",
    "%matplotlib inline\n",
    "from matplotlib import rcParams\n",
    "rcParams['font.family'] = 'serif'\n",
    "rcParams['font.size'] = 16"
   ]
  },
  {
   "cell_type": "markdown",
   "metadata": {
    "collapsed": true
   },
   "source": [
    "On débute l'algorithme pour utiliser la méthode de Runge-Kutta 4.\n",
    "\n",
    "On fait alors une fonction pas \"step\", qui va faire une étape a la fois de Runge Kutta 4.\n",
    "\n",
    "C'est à dire, calculer les k1,k2,k3,k4 et renvoyer la valeur u entrée + 1/6 . dt . (k1+2k2 + 2k3 + k4)"
   ]
  },
  {
   "cell_type": "code",
   "execution_count": 2,
   "metadata": {
    "collapsed": false
   },
   "outputs": [],
   "source": [
    "def RK4_step (u,f,dt):           #u valeur entrée, f une fonction définie en dehors qui va agir sur u et dt le pas.\n",
    "    k1 = f(u)\n",
    "    k2 = f(u + 1/2*dt*k1)\n",
    "    k3 = f(u + 1/2*dt*k2)\n",
    "    k4 = f(u + dt*k3)\n",
    "    K = k1+2*k2+2*k3+k4\n",
    "    return u + 1/6*dt*K\n",
    "\n"
   ]
  },
  {
   "cell_type": "markdown",
   "metadata": {},
   "source": [
    "On donne les valeurs des constantes nécessaires:"
   ]
  },
  {
   "cell_type": "code",
   "execution_count": 3,
   "metadata": {
    "collapsed": true
   },
   "outputs": [],
   "source": [
    "G = 6.67408*10**(-11)           #constante gravitationnelle          \n",
    "Mterre = 5.972*10**24           #masse de la terre\n",
    "Mlune = 7.348*10**22            #masse de la lune"
   ]
  },
  {
   "cell_type": "markdown",
   "metadata": {},
   "source": [
    "on définit la fonction qui va agir sur la valeur entrée.\n",
    "\n",
    "Ici on parle bien de la fonction trouvée en utilisant la même méthode que pour le phugoïd. C'est à dire, transformer l'équation différentielle du second degré, en 2 équations différentielles du premier degré.\n",
    "\n",
    "Cela va donc donner la fonction qui agit comme  f :(x,y,vx,vy)=>( vx , vy , -G.(Mterre+Mlune).x/(x^2+y^2)^(3/2) , -G.(Mterre+Mlune).y/(x^2+y^2)^(3/2) )"
   ]
  },
  {
   "cell_type": "code",
   "execution_count": 4,
   "metadata": {
    "collapsed": false
   },
   "outputs": [],
   "source": [
    "def f(u):                         #u sera une liste de 4 éléments : les position, x et y et les vitesses vx,vy\n",
    "    x = u[0]\n",
    "    y = u[1]\n",
    "    vx = u[2]\n",
    "    vy = u[3]\n",
    "    return numpy.array([vx,vy,-G*(Mterre+Mlune)*x/(x**2+y**2)**(3/2),-G*(Mterre+Mlune)*y/(x**2+y**2)**(3/2)])"
   ]
  },
  {
   "cell_type": "markdown",
   "metadata": {
    "collapsed": true
   },
   "source": [
    "Ensuite, puisque nous ne connaissions pas la valeur de la période de l'éllipse, nous devions prendre une valeur au hasard, jusqu'à laquelle notre code allait calculer.\n",
    "\n",
    "Par essai erreur du code ci-dessous, que nous allons expliquer, nous avons fait un graphe des points de positions donnés, et regarder à peu près, partir de quand l'ellipse était complète. Nous sommes arrivés à une valeur de T=2450000.0 secondes.\n",
    "\n",
    "nous allons donc arreter de calculer (pour le moment) quand nous atteignons ce nombre de pas."
   ]
  },
  {
   "cell_type": "markdown",
   "metadata": {
    "collapsed": false
   },
   "source": [
    "Expliquons le code ci-dessous. Nous devons répéter la méthode de Runge-Kutta 4 le nombre de fois nécessaires, à trouver la positions de la lune, jusqu'à ce qu'elle fasse une orbite complète. Pour le moment il n'est pas important de dépasser un peu la position de départ.\n",
    "\n",
    "L'étape d'utilisation de Runge Kutta 4 a déjà été codé avant. Maintenant il faut répéter cette étape pour calculer chaque positions et vitesse de la lune au cours de l'orbite."
   ]
  },
  {
   "cell_type": "code",
   "execution_count": 5,
   "metadata": {
    "collapsed": false
   },
   "outputs": [],
   "source": [
    "T = 2450000.0                #nombre de pas à effectuer (car dt =1)\n",
    "dt = 1                       #pas, en secondes\n",
    "N = int(T/dt)+1              #taille de la liste nécessaire pour avoir toutes les valeurs calculées\n",
    "x0 = -362600000.0            #position de départ de la lune (terre en (0,0)), en x\n",
    "y0 = 0.0                     #position de départ de la lune en y\n",
    "vx0 = 0.0                    #vitesse de départ de la lune en x  (terre = (0,0))\n",
    "vy0 = 1083.434974                 #vitesse de départ de la lune en y\n",
    "u_rk4   = numpy.empty((N, 4))                      #on crée la liste de N lignes et 4 colonnes (x,y,vx,vy)\n",
    "u_rk4[0]   = numpy.array([x0, y0, vx0, vy0])       #on donne l'élément de départ\n",
    "for n in range(N-1):                               \n",
    "    u_rk4[n+1]   = RK4_step(u_rk4[n], f, dt)  #chaque élément est calculé par RK4sur les données du point précedent"
   ]
  },
  {
   "cell_type": "markdown",
   "metadata": {
    "collapsed": true
   },
   "source": [
    "Voici l'élipse donnée par le calcul.\n",
    "    "
   ]
  },
  {
   "cell_type": "code",
   "execution_count": 6,
   "metadata": {
    "collapsed": false
   },
   "outputs": [
    {
     "data": {
      "image/png": "[encoded data removed]",
      "text/plain": [
       "<matplotlib.figure.Figure at 0x7f196224b2e8>"
      ]
     },
     "metadata": {},
     "output_type": "display_data"
    }
   ],
   "source": [
    "x = u_rk4[:,0]\n",
    "y = u_rk4[:,1]\n",
    "pyplot.figure(figsize=(8,8))\n",
    "pyplot.grid(True)\n",
    "pyplot.xlabel(r'x', fontsize=18)\n",
    "pyplot.ylabel(r'y', fontsize=18)\n",
    "pyplot.plot(y,x, 'k-', lw=2);"
   ]
  },
  {
   "cell_type": "markdown",
   "metadata": {},
   "source": [
    "2) Claculons maintenant l'apogée, la valeur maximum de la position en y et le minmum de la position en y "
   ]
  },
  {
   "cell_type": "code",
   "execution_count": 22,
   "metadata": {
    "collapsed": false
   },
   "outputs": [
    {
     "name": "stdout",
     "output_type": "stream",
     "text": [
      "404726232.866\n",
      "-383084497.255\n",
      "383084497.255\n"
     ]
    }
   ],
   "source": [
    "xmax = max(u_rk4[:,0])           #donne le maximum dans la colonne des x\n",
    "ymax = max(u_rk4[:,1])           #donne le max dans la colonne des y\n",
    "ymin = min(u_rk4[:,1])           #donne le minimum dans la colonne des y\n",
    "print (xmax)\n",
    "print (ymin)\n",
    "print (ymax)"
   ]
  },
  {
   "cell_type": "markdown",
   "metadata": {},
   "source": [
    "calculons a et b"
   ]
  },
  {
   "cell_type": "code",
   "execution_count": 25,
   "metadata": {
    "collapsed": false
   },
   "outputs": [
    {
     "name": "stdout",
     "output_type": "stream",
     "text": [
      "383084497.255\n"
     ]
    }
   ],
   "source": [
    "#le demi petit axe b est donné par\n",
    "b = (ymax - ymin)/2           #le \"diamètre\" de l'elipse en y divisé par 2\n",
    "print (b)"
   ]
  },
  {
   "cell_type": "code",
   "execution_count": 26,
   "metadata": {
    "collapsed": false
   },
   "outputs": [
    {
     "name": "stdout",
     "output_type": "stream",
     "text": [
      "383663116.433\n"
     ]
    }
   ],
   "source": [
    "#le demi grand axe a est donné par\n",
    "a = (xmax - x0)/2           #le \"diamètre\" de l'élipse en x divisé par 2\n",
    "print (a)"
   ]
  },
  {
   "cell_type": "markdown",
   "metadata": {},
   "source": [
    "Nous avons donc comme valeurs : a=383663116.433  et b =383084497.255 en mètres"
   ]
  },
  {
   "cell_type": "markdown",
   "metadata": {},
   "source": [
    "On peut calculer aussi l'excentricité, pour comparer avec la valeur théorique."
   ]
  },
  {
   "cell_type": "code",
   "execution_count": 27,
   "metadata": {
    "collapsed": false
   },
   "outputs": [
    {
     "name": "stdout",
     "output_type": "stream",
     "text": [
      "0.0549000295618\n"
     ]
    }
   ],
   "source": [
    "#le calcul de l'excentricité est donné par\n",
    "e = (1-(b/a)**(2))**(1/2)\n",
    "print (e)"
   ]
  },
  {
   "cell_type": "markdown",
   "metadata": {
    "collapsed": false
   },
   "source": [
    "3) Calculons la période \n",
    "\n",
    "Nous avons utiliser le fait que la période est déterminée dans le dernier quadrant de l'elipse au moment où on passde y négatifs à y positifs. Dans le dernier quadrant les x et y sont négatifs. Et au moment ou y ne l'est plus, on  a atteint le point de départ."
   ]
  },
  {
   "cell_type": "code",
   "execution_count": 28,
   "metadata": {
    "collapsed": false
   },
   "outputs": [
    {
     "name": "stdout",
     "output_type": "stream",
     "text": [
      "2350681\n"
     ]
    }
   ],
   "source": [
    "\n",
    "for i in range(N):                            #on parcours donc la liste de points créée par RK4\n",
    "    if u_rk4[i][0] < 0 and u_rk4 [i][1] < 0 :\n",
    "        T = i                               #et on prend le dernier élément du dernier quadrant\n",
    "         \n",
    "print (T)"
   ]
  },
  {
   "cell_type": "markdown",
   "metadata": {
    "collapsed": false
   },
   "source": [
    "On a donc une orbite de 2350681 secondes. C'est à dire : ~27,2 jours"
   ]
  },
  {
   "cell_type": "markdown",
   "metadata": {},
   "source": [
    " "
   ]
  },
  {
   "cell_type": "markdown",
   "metadata": {
    "collapsed": true
   },
   "source": [
    "4)Parlons de l'ordre de convergence de notre méthode numérique"
   ]
  },
  {
   "cell_type": "markdown",
   "metadata": {},
   "source": [
    "Ensuite on va utiliser la même méthode que pour le phugoïd pour comparer les résultats les plus précis et les moins précis pour nos valeurs données par RK4."
   ]
  },
  {
   "cell_type": "markdown",
   "metadata": {},
   "source": [
    "On définit une fonction qui va comparer pour chaque pas les résulats dans nos listes. Indépendamment de la taille de celles-ci."
   ]
  },
  {
   "cell_type": "code",
   "execution_count": 72,
   "metadata": {
    "collapsed": false
   },
   "outputs": [],
   "source": [
    "def get_diffgrid(u_current, u_fine, dt):      #u_current est nos valeurs moins précises et u_fine sont les valeurs plus précises \n",
    "    N_current = len(u_current[:,0])\n",
    "    N_fine = len(u_fine[:,0])\n",
    "   \n",
    "    grid_size_ratio = int(numpy.ceil(N_fine/N_current))\n",
    "    \n",
    "    diffgrid = dt * numpy.sum( numpy.abs(\\\n",
    "            u_current[:,2]- u_fine[::grid_size_ratio,2])) \n",
    "    \n",
    "    return diffgrid               #diffgrid est une liste"
   ]
  },
  {
   "cell_type": "code",
   "execution_count": 73,
   "metadata": {
    "collapsed": false
   },
   "outputs": [],
   "source": [
    "\n",
    "dt_values = numpy.array([16000, 8000, 4000, 2000, 1000])      #on compare avec des pas de différentes tailles, au lieu de 1\n",
    "                                                              #avec 1, le calcul serait trop long\n",
    "u_values = numpy.empty_like(dt_values, dtype=numpy.ndarray)\n",
    "\n",
    "for i, dt in enumerate(dt_values):\n",
    "    \n",
    "    N = int(T/dt)+1   \n",
    "    \n",
    "    t = numpy.linspace(0.0, T, N)\n",
    "    \n",
    "    u_rk4 = numpy.empty((N, 4))\n",
    "    u_rk4[0] = numpy.array([x0, y0, vx0, vy0])\n",
    "\n",
    "    for n in range(N-1):\n",
    "        u_rk4[n+1] = RK4_step(u_rk4[n], f, dt)\n",
    "    \n",
    "    u_values[i] = u_rk4\n",
    "    \n",
    "diffgrid = numpy.empty_like(dt_values, dtype=numpy.ndarray)\n",
    "\n",
    "for i, dt in enumerate(dt_values):\n",
    "\n",
    "    diffgrid[i] = get_diffgrid(u_values[i], u_values[-1], dt) "
   ]
  },
  {
   "cell_type": "markdown",
   "metadata": {
    "collapsed": false
   },
   "source": [
    "On a comparé nos résultats de RK4 entre eux et on obtient des différences de la forme:"
   ]
  },
  {
   "cell_type": "code",
   "execution_count": 74,
   "metadata": {
    "collapsed": false
   },
   "outputs": [
    {
     "data": {
      "image/png": "[encoded data removed]",
      "text/plain": [
       "<matplotlib.figure.Figure at 0x7f6882973fd0>"
      ]
     },
     "metadata": {},
     "output_type": "display_data"
    }
   ],
   "source": [
    "pyplot.figure(figsize=(7,7))\n",
    "pyplot.grid(True)\n",
    "pyplot.xlabel(r'$\\Delta t$', fontsize=15)\n",
    "pyplot.ylabel(r'$L_1$-norm of the grid differences', fontsize=15)\n",
    "pyplot.xlim(1e2,1e5)\n",
    "pyplot.ylim(1e-1,1e4)\n",
    "pyplot.loglog(dt_values, diffgrid, color='k', ls='--', lw=2, marker='o');"
   ]
  },
  {
   "cell_type": "markdown",
   "metadata": {
    "collapsed": false
   },
   "source": [
    "Si on regarde alors l'ordre de convergence pour les pas pris au dessus on a (en utilisant les mêmes fonctions que pour le phugoïd) :"
   ]
  },
  {
   "cell_type": "code",
   "execution_count": 78,
   "metadata": {
    "collapsed": false
   },
   "outputs": [
    {
     "name": "stdout",
     "output_type": "stream",
     "text": [
      "4.026904622943717\n"
     ]
    }
   ],
   "source": [
    "T = 2350681\n",
    "r = 2\n",
    "dt = 1000\n",
    "\n",
    "dt_values = numpy.array([dt, r*dt, r**2*dt])\n",
    "\n",
    "u_values = numpy.empty_like(dt_values, dtype=numpy.ndarray)\n",
    "\n",
    "for i, dt in enumerate(dt_values):\n",
    "    \n",
    "    N = int(T/dt)+1   \n",
    "    \n",
    "    t = numpy.linspace(0.0, T, N)\n",
    "    \n",
    "    u_rk4 = numpy.empty((N, 4))\n",
    "    u_rk4[0] = numpy.array([x0, y0, vx0, vy0])\n",
    "\n",
    "    for n in range(N-1):\n",
    "        u_rk4[n+1] = RK4_step(u_rk4[n], f, dt)\n",
    "    \n",
    "    u_values[i] = u_rk4\n",
    "    \n",
    "alpha = (log(get_diffgrid(u_values[2], u_values[1], dt_values[2])) \n",
    "         - log(get_diffgrid(u_values[1], u_values[0], dt_values[1]))) / log(r)\n",
    "\n",
    "print(alpha)"
   ]
  },
  {
   "cell_type": "code",
   "execution_count": 79,
   "metadata": {
    "collapsed": false
   },
   "outputs": [
    {
     "name": "stdout",
     "output_type": "stream",
     "text": [
      "4.051694104891954\n"
     ]
    }
   ],
   "source": [
    "T = 2350681\n",
    "r = 2\n",
    "dt = 2000\n",
    "\n",
    "dt_values = numpy.array([dt, r*dt, r**2*dt])\n",
    "\n",
    "u_values = numpy.empty_like(dt_values, dtype=numpy.ndarray)\n",
    "\n",
    "for i, dt in enumerate(dt_values):\n",
    "    \n",
    "    N = int(T/dt)+1   \n",
    "    \n",
    "    t = numpy.linspace(0.0, T, N)\n",
    "    \n",
    "    u_rk4 = numpy.empty((N, 4))\n",
    "    u_rk4[0] = numpy.array([x0, y0, vx0, vy0])\n",
    "\n",
    "    for n in range(N-1):\n",
    "        u_rk4[n+1] = RK4_step(u_rk4[n], f, dt)\n",
    "    \n",
    "    u_values[i] = u_rk4\n",
    "    \n",
    "alpha = (log(get_diffgrid(u_values[2], u_values[1], dt_values[2])) \n",
    "         - log(get_diffgrid(u_values[1], u_values[0], dt_values[1]))) / log(r)\n",
    "\n",
    "print(alpha)"
   ]
  },
  {
   "cell_type": "code",
   "execution_count": 80,
   "metadata": {
    "collapsed": false
   },
   "outputs": [
    {
     "name": "stdout",
     "output_type": "stream",
     "text": [
      "4.281586872116698\n"
     ]
    }
   ],
   "source": [
    "T = 2350681\n",
    "r = 2\n",
    "dt = 16000\n",
    "\n",
    "dt_values = numpy.array([dt, r*dt, r**2*dt])\n",
    "\n",
    "u_values = numpy.empty_like(dt_values, dtype=numpy.ndarray)\n",
    "\n",
    "for i, dt in enumerate(dt_values):\n",
    "    \n",
    "    N = int(T/dt)+1   \n",
    "    \n",
    "    t = numpy.linspace(0.0, T, N)\n",
    "    \n",
    "    u_rk4 = numpy.empty((N, 4))\n",
    "    u_rk4[0] = numpy.array([x0, y0, vx0, vy0])\n",
    "\n",
    "    for n in range(N-1):\n",
    "        u_rk4[n+1] = RK4_step(u_rk4[n], f, dt)\n",
    "    \n",
    "    u_values[i] = u_rk4\n",
    "    \n",
    "alpha = (log(get_diffgrid(u_values[2], u_values[1], dt_values[2])) \n",
    "         - log(get_diffgrid(u_values[1], u_values[0], dt_values[1]))) / log(r)\n",
    "\n",
    "print(alpha)"
   ]
  },
  {
   "cell_type": "markdown",
   "metadata": {},
   "source": [
    "On obtient bien un ordre de convergence de ~4. Mais si on prend des valeurs plus petites que 1000:"
   ]
  },
  {
   "cell_type": "code",
   "execution_count": 81,
   "metadata": {
    "collapsed": false
   },
   "outputs": [
    {
     "name": "stdout",
     "output_type": "stream",
     "text": [
      "1.1072103544259118\n"
     ]
    }
   ],
   "source": [
    "T = 2350681\n",
    "r = 2\n",
    "dt = 100\n",
    "\n",
    "dt_values = numpy.array([dt, r*dt, r**2*dt])\n",
    "\n",
    "u_values = numpy.empty_like(dt_values, dtype=numpy.ndarray)\n",
    "\n",
    "for i, dt in enumerate(dt_values):\n",
    "    \n",
    "    N = int(T/dt)+1   \n",
    "    \n",
    "    t = numpy.linspace(0.0, T, N)\n",
    "    \n",
    "    u_rk4 = numpy.empty((N, 4))\n",
    "    u_rk4[0] = numpy.array([x0, y0, vx0, vy0])\n",
    "\n",
    "    for n in range(N-1):\n",
    "        u_rk4[n+1] = RK4_step(u_rk4[n], f, dt)\n",
    "    \n",
    "    u_values[i] = u_rk4\n",
    "    \n",
    "alpha = (log(get_diffgrid(u_values[2], u_values[1], dt_values[2])) \n",
    "         - log(get_diffgrid(u_values[1], u_values[0], dt_values[1]))) / log(r)\n",
    "\n",
    "print(alpha)"
   ]
  },
  {
   "cell_type": "markdown",
   "metadata": {},
   "source": [
    "on obtient des valeurs totalement différentes de 4"
   ]
  },
  {
   "cell_type": "markdown",
   "metadata": {},
   "source": [
    "Plus précis quand on prend un pas de 1000"
   ]
  },
  {
   "cell_type": "markdown",
   "metadata": {},
   "source": [
    "5) calculons le déplacement de l'astéroïde dans le système terre-lune.\n",
    "\n",
    "Donnons les valeurs dont nous auront besoin:"
   ]
  },
  {
   "cell_type": "code",
   "execution_count": 29,
   "metadata": {
    "collapsed": true
   },
   "outputs": [],
   "source": [
    "G = 6.67408*10**(-11)\n",
    "Mterre = 5.972*10**24\n",
    "Mlune = 7.348*10**22\n",
    "a=383663116.433   #position de la lune a t0, par rapport à l'astéroïde    \n",
    "xL=a\n",
    "yL=0              #position de la lune en y à l'apogée."
   ]
  },
  {
   "cell_type": "markdown",
   "metadata": {},
   "source": [
    "On doit définir la fonction qui prend en compte la force de la terre et la lune sur l'astéroïde:\n",
    "\n",
    "G.rL_A.(Mlune/rL_A^3 - Mterre/rT_A^3), avec rL_A le rayon de l'astéroïde centre de la terre et rT_A le rayon de la lune à l'astéroïde"
   ]
  },
  {
   "cell_type": "code",
   "execution_count": 30,
   "metadata": {
    "collapsed": true
   },
   "outputs": [],
   "source": [
    "#Astéroïde \n",
    "def f_ast(u2):\n",
    "\n",
    "    x = u2[0]\n",
    "    y = u2[1]\n",
    "    vx = u2[2]\n",
    "    vy = u2[3]\n",
    "    return numpy.array([vx,vy,G*x*(Mlune/((x-xL)**2+(y-yL)**2)**(3/2)-Mterre/(x**2+y**2)**(3/2)),G*y*(Mlune/((x-xL)**2+(y-yL)**2)**(3/2)-Mterre/(x**2+y**2)**(3/2))])"
   ]
  },
  {
   "cell_type": "markdown",
   "metadata": {},
   "source": [
    "On doit trouver la valeur de la vitesse de la lune à l'apogée."
   ]
  },
  {
   "cell_type": "code",
   "execution_count": 31,
   "metadata": {
    "collapsed": true
   },
   "outputs": [],
   "source": [
    "T = 2350681                \n",
    "dt = 1                       \n",
    "N = int(T/dt)+1              \n",
    "x0 = -362600000.0           \n",
    "y0 = 0.0                     \n",
    "vx0 = 0.0                    \n",
    "vy0 = 1083.434974                 \n",
    "u_rk4   = numpy.empty((N, 4))                      \n",
    "u_rk4[0]   = numpy.array([x0, y0, vx0, vy0])       \n",
    "for n in range(N-1):                               \n",
    "    u_rk4[n+1]   = RK4_step(u_rk4[n], f, dt)  "
   ]
  },
  {
   "cell_type": "code",
   "execution_count": 32,
   "metadata": {
    "collapsed": false
   },
   "outputs": [
    {
     "name": "stdout",
     "output_type": "stream",
     "text": [
      "-970.66483383\n"
     ]
    }
   ],
   "source": [
    "vy0= u_rk4[int(2350681/2)][3]            #vitesse de la lune a l'apogée\n",
    "                                    #(on peut diviser la période par deux, grâce à la loi de kepler)\n",
    "print (vy0)"
   ]
  },
  {
   "cell_type": "markdown",
   "metadata": {},
   "source": [
    "Pour calculer la position de l'astéorïde, il faut calculer la position de la lune à chaque pas, puis calculer l'influence de la lune et de la terre (grace à RK4) sur l'astéroïde, pour obtenir sa position a chaque pas."
   ]
  },
  {
   "cell_type": "code",
   "execution_count": 33,
   "metadata": {
    "collapsed": false
   },
   "outputs": [
    {
     "name": "stdout",
     "output_type": "stream",
     "text": [
      "7717206.49839 2597623.40329\n"
     ]
    }
   ],
   "source": [
    "T = 1209600                           #14 jours\n",
    "dt = 1\n",
    "N = int(T/dt)+1\n",
    "x0 = 415353549.349     #xmax        ce sont les données pour calculer la position de la lune\n",
    "y0 = 0.0\n",
    "vx0 = 0.0 \n",
    "xa0=x0-a                      #position de départ de l'astéroïde\n",
    "ya0=0\n",
    "\n",
    "u_rk4   = numpy.empty((N, 4))\n",
    "u_rk4[0]   = numpy.array([x0, y0, vx0, vy0])\n",
    "a_rk4 = numpy.empty((N,4))                      #liste de données de l'astéroïde\n",
    "a_rk4[0]= numpy.array([xa0,ya0,-500,500])    #les deux derniers éléments sont les vitesses, vx et vy de l'astéroïde\n",
    "                                             #au point de départ\n",
    "for n in range(N-1):\n",
    "    u_rk4[n+1]   = RK4_step(u_rk4[n], f, dt)\n",
    "    \n",
    "    xL=u_rk4[n+1][0]              #donnée pour calculer la position de l'astéroïde\n",
    "    yL=u_rk4[n+1][1]\n",
    "    \n",
    "    a_rk4[n+1] = RK4_step(a_rk4[n],f_ast,dt)     #RK4 pour trouver la position de l'astéroïde\n",
    "    \n",
    "print (a_rk4[N-1][0],a_rk4[N-1][1])"
   ]
  },
  {
   "cell_type": "markdown",
   "metadata": {},
   "source": [
    "On peut voir que l'astéroïde s'éloigne et se trouve a une distance de ~8000km à droite de la terre et à ~2600km en haut de la terre. "
   ]
  },
  {
   "cell_type": "code",
   "execution_count": 34,
   "metadata": {
    "collapsed": false
   },
   "outputs": [
    {
     "data": {
      "image/png": "[encoded data removed]",
      "text/plain": [
       "<matplotlib.figure.Figure at 0x7f195efd6d30>"
      ]
     },
     "metadata": {},
     "output_type": "display_data"
    }
   ],
   "source": [
    "x = a_rk4[:,0]\n",
    "y = a_rk4[:,1]\n",
    "pyplot.figure(figsize=(10,10))\n",
    "pyplot.grid(True)\n",
    "pyplot.xlabel(r'x', fontsize=18)\n",
    "pyplot.ylabel(r'y', fontsize=18)\n",
    "pyplot.plot(y,x, 'k-', lw=2);"
   ]
  },
  {
   "cell_type": "markdown",
   "metadata": {},
   "source": [
    "On voit que l'astéroïde fait une trajectoire élliptique autour de la terre. Et un satellite de plus pour la terre !"
   ]
  },
  {
   "cell_type": "markdown",
   "metadata": {},
   "source": [
    "5) Animation de nos tajectoires"
   ]
  },
  {
   "cell_type": "code",
   "execution_count": 68,
   "metadata": {
    "collapsed": true
   },
   "outputs": [],
   "source": [
    "from matplotlib import animation     #On importe de quoi pouvoir animer notre trajectoire\n",
    "from IPython.display import HTML"
   ]
  },
  {
   "cell_type": "code",
   "execution_count": 76,
   "metadata": {
    "collapsed": false
   },
   "outputs": [
    {
     "data": {
      "image/png": "[encoded data removed]",
      "text/plain": [
       "<matplotlib.figure.Figure at 0x7f194e7cbf60>"
      ]
     },
     "metadata": {},
     "output_type": "display_data"
    }
   ],
   "source": [
    "fig = pyplot.figure(figsize=(10,10))   #On crée le graphique qui va \"héberger\" notre animation\n",
    "ax = pyplot.axes(xlim=(-4*10**8,4*10**8), ylim=(-4*10**8,4*10**8))\n",
    "line = ax.plot([], [], color='#003366', ls='--', lw=3,) [0]"
   ]
  },
  {
   "cell_type": "code",
   "execution_count": 85,
   "metadata": {
    "collapsed": true
   },
   "outputs": [],
   "source": [
    "T = 2350681                                   #On crée la fonction qui va nous permettre d'animer la trajectoire lunaire\n",
    "dt = 1\n",
    "N = int(T/dt)+1\n",
    "def animate(i):\n",
    "    line.set_data(u_rk4[:i,0],u_rk4[:i,1])\n",
    "    for j in range(N-1):                      #On recrée la boucle qui calcule la postion de la Lune pour plus d'exactitude\n",
    "        u_rk4[n+1]   = RK4_step(u_rk4[n], f, dt)\n",
    "        u_rk4[:i+1,0] = u_rk4[n+1][0]\n",
    "        u_rk4[:i+1,1] = u_rk4[n+1][1]\n",
    "    return line"
   ]
  },
  {
   "cell_type": "code",
   "execution_count": 86,
   "metadata": {
    "collapsed": false
   },
   "outputs": [],
   "source": [
    "anim = animation.FuncAnimation(fig, animate, frames = 100000, interval = 100) "
   ]
  },
  {
   "cell_type": "code",
   "execution_count": 87,
   "metadata": {
    "collapsed": false
   },
   "outputs": [
    {
     "ename": "KeyboardInterrupt",
     "evalue": "",
     "output_type": "error",
     "traceback": [
      "\u001b[1;31m---------------------------------------------------------------------------\u001b[0m",
      "\u001b[1;31mKeyboardInterrupt\u001b[0m                         Traceback (most recent call last)",
      "\u001b[1;32m<ipython-input-87-5114ccf53b4c>\u001b[0m in \u001b[0;36m<module>\u001b[1;34m()\u001b[0m\n\u001b[1;32m----> 1\u001b[1;33m \u001b[0mHTML\u001b[0m\u001b[1;33m(\u001b[0m\u001b[0manim\u001b[0m\u001b[1;33m.\u001b[0m\u001b[0mto_html5_video\u001b[0m\u001b[1;33m(\u001b[0m\u001b[1;33m)\u001b[0m\u001b[1;33m)\u001b[0m\u001b[1;33m\u001b[0m\u001b[0m\n\u001b[0m",
      "\u001b[1;32m/serveur/logiciels/anaconda3/lib/python3.4/site-packages/matplotlib/animation.py\u001b[0m in \u001b[0;36mto_html5_video\u001b[1;34m(self)\u001b[0m\n\u001b[0;32m    953\u001b[0m                                 \u001b[0mbitrate\u001b[0m\u001b[1;33m=\u001b[0m\u001b[0mrcParams\u001b[0m\u001b[1;33m[\u001b[0m\u001b[1;34m'animation.bitrate'\u001b[0m\u001b[1;33m]\u001b[0m\u001b[1;33m,\u001b[0m\u001b[1;33m\u001b[0m\u001b[0m\n\u001b[0;32m    954\u001b[0m                                 fps=1000. / self._interval)\n\u001b[1;32m--> 955\u001b[1;33m                 \u001b[0mself\u001b[0m\u001b[1;33m.\u001b[0m\u001b[0msave\u001b[0m\u001b[1;33m(\u001b[0m\u001b[0mf\u001b[0m\u001b[1;33m.\u001b[0m\u001b[0mname\u001b[0m\u001b[1;33m,\u001b[0m \u001b[0mwriter\u001b[0m\u001b[1;33m=\u001b[0m\u001b[0mwriter\u001b[0m\u001b[1;33m)\u001b[0m\u001b[1;33m\u001b[0m\u001b[0m\n\u001b[0m\u001b[0;32m    956\u001b[0m \u001b[1;33m\u001b[0m\u001b[0m\n\u001b[0;32m    957\u001b[0m             \u001b[1;31m# Now open and base64 encode\u001b[0m\u001b[1;33m\u001b[0m\u001b[1;33m\u001b[0m\u001b[0m\n",
      "\u001b[1;32m/serveur/logiciels/anaconda3/lib/python3.4/site-packages/matplotlib/animation.py\u001b[0m in \u001b[0;36msave\u001b[1;34m(self, filename, writer, fps, dpi, codec, bitrate, extra_args, metadata, extra_anim, savefig_kwargs)\u001b[0m\n\u001b[0;32m    807\u001b[0m                 \u001b[1;32mfor\u001b[0m \u001b[0manim\u001b[0m\u001b[1;33m,\u001b[0m \u001b[0md\u001b[0m \u001b[1;32min\u001b[0m \u001b[0mzip\u001b[0m\u001b[1;33m(\u001b[0m\u001b[0mall_anim\u001b[0m\u001b[1;33m,\u001b[0m \u001b[0mdata\u001b[0m\u001b[1;33m)\u001b[0m\u001b[1;33m:\u001b[0m\u001b[1;33m\u001b[0m\u001b[0m\n\u001b[0;32m    808\u001b[0m                     \u001b[1;31m# TODO: Need to see if turning off blit is really necessary\u001b[0m\u001b[1;33m\u001b[0m\u001b[1;33m\u001b[0m\u001b[0m\n\u001b[1;32m--> 809\u001b[1;33m                     \u001b[0manim\u001b[0m\u001b[1;33m.\u001b[0m\u001b[0m_draw_next_frame\u001b[0m\u001b[1;33m(\u001b[0m\u001b[0md\u001b[0m\u001b[1;33m,\u001b[0m \u001b[0mblit\u001b[0m\u001b[1;33m=\u001b[0m\u001b[1;32mFalse\u001b[0m\u001b[1;33m)\u001b[0m\u001b[1;33m\u001b[0m\u001b[0m\n\u001b[0m\u001b[0;32m    810\u001b[0m                 \u001b[0mwriter\u001b[0m\u001b[1;33m.\u001b[0m\u001b[0mgrab_frame\u001b[0m\u001b[1;33m(\u001b[0m\u001b[1;33m**\u001b[0m\u001b[0msavefig_kwargs\u001b[0m\u001b[1;33m)\u001b[0m\u001b[1;33m\u001b[0m\u001b[0m\n\u001b[0;32m    811\u001b[0m \u001b[1;33m\u001b[0m\u001b[0m\n",
      "\u001b[1;32m/serveur/logiciels/anaconda3/lib/python3.4/site-packages/matplotlib/animation.py\u001b[0m in \u001b[0;36m_draw_next_frame\u001b[1;34m(self, framedata, blit)\u001b[0m\n\u001b[0;32m    844\u001b[0m         \u001b[1;31m# post- draw, as well as the drawing of the frame itself.\u001b[0m\u001b[1;33m\u001b[0m\u001b[1;33m\u001b[0m\u001b[0m\n\u001b[0;32m    845\u001b[0m         \u001b[0mself\u001b[0m\u001b[1;33m.\u001b[0m\u001b[0m_pre_draw\u001b[0m\u001b[1;33m(\u001b[0m\u001b[0mframedata\u001b[0m\u001b[1;33m,\u001b[0m \u001b[0mblit\u001b[0m\u001b[1;33m)\u001b[0m\u001b[1;33m\u001b[0m\u001b[0m\n\u001b[1;32m--> 846\u001b[1;33m         \u001b[0mself\u001b[0m\u001b[1;33m.\u001b[0m\u001b[0m_draw_frame\u001b[0m\u001b[1;33m(\u001b[0m\u001b[0mframedata\u001b[0m\u001b[1;33m)\u001b[0m\u001b[1;33m\u001b[0m\u001b[0m\n\u001b[0m\u001b[0;32m    847\u001b[0m         \u001b[0mself\u001b[0m\u001b[1;33m.\u001b[0m\u001b[0m_post_draw\u001b[0m\u001b[1;33m(\u001b[0m\u001b[0mframedata\u001b[0m\u001b[1;33m,\u001b[0m \u001b[0mblit\u001b[0m\u001b[1;33m)\u001b[0m\u001b[1;33m\u001b[0m\u001b[0m\n\u001b[0;32m    848\u001b[0m \u001b[1;33m\u001b[0m\u001b[0m\n",
      "\u001b[1;32m/serveur/logiciels/anaconda3/lib/python3.4/site-packages/matplotlib/animation.py\u001b[0m in \u001b[0;36m_draw_frame\u001b[1;34m(self, framedata)\u001b[0m\n\u001b[0;32m   1210\u001b[0m         \u001b[1;31m# Call the func with framedata and args. If blitting is desired,\u001b[0m\u001b[1;33m\u001b[0m\u001b[1;33m\u001b[0m\u001b[0m\n\u001b[0;32m   1211\u001b[0m         \u001b[1;31m# func needs to return a sequence of any artists that were modified.\u001b[0m\u001b[1;33m\u001b[0m\u001b[1;33m\u001b[0m\u001b[0m\n\u001b[1;32m-> 1212\u001b[1;33m         \u001b[0mself\u001b[0m\u001b[1;33m.\u001b[0m\u001b[0m_drawn_artists\u001b[0m \u001b[1;33m=\u001b[0m \u001b[0mself\u001b[0m\u001b[1;33m.\u001b[0m\u001b[0m_func\u001b[0m\u001b[1;33m(\u001b[0m\u001b[0mframedata\u001b[0m\u001b[1;33m,\u001b[0m \u001b[1;33m*\u001b[0m\u001b[0mself\u001b[0m\u001b[1;33m.\u001b[0m\u001b[0m_args\u001b[0m\u001b[1;33m)\u001b[0m\u001b[1;33m\u001b[0m\u001b[0m\n\u001b[0m\u001b[0;32m   1213\u001b[0m         \u001b[1;32mif\u001b[0m \u001b[0mself\u001b[0m\u001b[1;33m.\u001b[0m\u001b[0m_blit\u001b[0m\u001b[1;33m:\u001b[0m\u001b[1;33m\u001b[0m\u001b[0m\n\u001b[0;32m   1214\u001b[0m             \u001b[1;32mfor\u001b[0m \u001b[0ma\u001b[0m \u001b[1;32min\u001b[0m \u001b[0mself\u001b[0m\u001b[1;33m.\u001b[0m\u001b[0m_drawn_artists\u001b[0m\u001b[1;33m:\u001b[0m\u001b[1;33m\u001b[0m\u001b[0m\n",
      "\u001b[1;32m<ipython-input-85-a01cfcdd3cbf>\u001b[0m in \u001b[0;36manimate\u001b[1;34m(i)\u001b[0m\n\u001b[0;32m      5\u001b[0m     \u001b[0mline\u001b[0m\u001b[1;33m.\u001b[0m\u001b[0mset_data\u001b[0m\u001b[1;33m(\u001b[0m\u001b[0mu_rk4\u001b[0m\u001b[1;33m[\u001b[0m\u001b[1;33m:\u001b[0m\u001b[0mi\u001b[0m\u001b[1;33m,\u001b[0m\u001b[1;36m0\u001b[0m\u001b[1;33m]\u001b[0m\u001b[1;33m,\u001b[0m\u001b[0mu_rk4\u001b[0m\u001b[1;33m[\u001b[0m\u001b[1;33m:\u001b[0m\u001b[0mi\u001b[0m\u001b[1;33m,\u001b[0m\u001b[1;36m1\u001b[0m\u001b[1;33m]\u001b[0m\u001b[1;33m)\u001b[0m\u001b[1;33m\u001b[0m\u001b[0m\n\u001b[0;32m      6\u001b[0m     \u001b[1;32mfor\u001b[0m \u001b[0mj\u001b[0m \u001b[1;32min\u001b[0m \u001b[0mrange\u001b[0m\u001b[1;33m(\u001b[0m\u001b[0mN\u001b[0m\u001b[1;33m-\u001b[0m\u001b[1;36m1\u001b[0m\u001b[1;33m)\u001b[0m\u001b[1;33m:\u001b[0m\u001b[1;33m\u001b[0m\u001b[0m\n\u001b[1;32m----> 7\u001b[1;33m         \u001b[0mu_rk4\u001b[0m\u001b[1;33m[\u001b[0m\u001b[0mn\u001b[0m\u001b[1;33m+\u001b[0m\u001b[1;36m1\u001b[0m\u001b[1;33m]\u001b[0m   \u001b[1;33m=\u001b[0m \u001b[0mRK4_step\u001b[0m\u001b[1;33m(\u001b[0m\u001b[0mu_rk4\u001b[0m\u001b[1;33m[\u001b[0m\u001b[0mn\u001b[0m\u001b[1;33m]\u001b[0m\u001b[1;33m,\u001b[0m \u001b[0mf\u001b[0m\u001b[1;33m,\u001b[0m \u001b[0mdt\u001b[0m\u001b[1;33m)\u001b[0m\u001b[1;33m\u001b[0m\u001b[0m\n\u001b[0m\u001b[0;32m      8\u001b[0m         \u001b[0mu_rk4\u001b[0m\u001b[1;33m[\u001b[0m\u001b[1;33m:\u001b[0m\u001b[0mi\u001b[0m\u001b[1;33m+\u001b[0m\u001b[1;36m1\u001b[0m\u001b[1;33m,\u001b[0m\u001b[1;36m0\u001b[0m\u001b[1;33m]\u001b[0m \u001b[1;33m=\u001b[0m \u001b[0mu_rk4\u001b[0m\u001b[1;33m[\u001b[0m\u001b[0mn\u001b[0m\u001b[1;33m+\u001b[0m\u001b[1;36m1\u001b[0m\u001b[1;33m]\u001b[0m\u001b[1;33m[\u001b[0m\u001b[1;36m0\u001b[0m\u001b[1;33m]\u001b[0m\u001b[1;33m\u001b[0m\u001b[0m\n\u001b[0;32m      9\u001b[0m         \u001b[0mu_rk4\u001b[0m\u001b[1;33m[\u001b[0m\u001b[1;33m:\u001b[0m\u001b[0mi\u001b[0m\u001b[1;33m+\u001b[0m\u001b[1;36m1\u001b[0m\u001b[1;33m,\u001b[0m\u001b[1;36m1\u001b[0m\u001b[1;33m]\u001b[0m \u001b[1;33m=\u001b[0m \u001b[0mu_rk4\u001b[0m\u001b[1;33m[\u001b[0m\u001b[0mn\u001b[0m\u001b[1;33m+\u001b[0m\u001b[1;36m1\u001b[0m\u001b[1;33m]\u001b[0m\u001b[1;33m[\u001b[0m\u001b[1;36m1\u001b[0m\u001b[1;33m]\u001b[0m\u001b[1;33m\u001b[0m\u001b[0m\n",
      "\u001b[1;32m<ipython-input-2-55073201ab68>\u001b[0m in \u001b[0;36mRK4_step\u001b[1;34m(u, f, dt)\u001b[0m\n\u001b[0;32m      2\u001b[0m     \u001b[0mk1\u001b[0m \u001b[1;33m=\u001b[0m \u001b[0mf\u001b[0m\u001b[1;33m(\u001b[0m\u001b[0mu\u001b[0m\u001b[1;33m)\u001b[0m\u001b[1;33m\u001b[0m\u001b[0m\n\u001b[0;32m      3\u001b[0m     \u001b[0mk2\u001b[0m \u001b[1;33m=\u001b[0m \u001b[0mf\u001b[0m\u001b[1;33m(\u001b[0m\u001b[0mu\u001b[0m \u001b[1;33m+\u001b[0m \u001b[1;36m1\u001b[0m\u001b[1;33m/\u001b[0m\u001b[1;36m2\u001b[0m\u001b[1;33m*\u001b[0m\u001b[0mdt\u001b[0m\u001b[1;33m*\u001b[0m\u001b[0mk1\u001b[0m\u001b[1;33m)\u001b[0m\u001b[1;33m\u001b[0m\u001b[0m\n\u001b[1;32m----> 4\u001b[1;33m     \u001b[0mk3\u001b[0m \u001b[1;33m=\u001b[0m \u001b[0mf\u001b[0m\u001b[1;33m(\u001b[0m\u001b[0mu\u001b[0m \u001b[1;33m+\u001b[0m \u001b[1;36m1\u001b[0m\u001b[1;33m/\u001b[0m\u001b[1;36m2\u001b[0m\u001b[1;33m*\u001b[0m\u001b[0mdt\u001b[0m\u001b[1;33m*\u001b[0m\u001b[0mk2\u001b[0m\u001b[1;33m)\u001b[0m\u001b[1;33m\u001b[0m\u001b[0m\n\u001b[0m\u001b[0;32m      5\u001b[0m     \u001b[0mk4\u001b[0m \u001b[1;33m=\u001b[0m \u001b[0mf\u001b[0m\u001b[1;33m(\u001b[0m\u001b[0mu\u001b[0m \u001b[1;33m+\u001b[0m \u001b[0mdt\u001b[0m\u001b[1;33m*\u001b[0m\u001b[0mk3\u001b[0m\u001b[1;33m)\u001b[0m\u001b[1;33m\u001b[0m\u001b[0m\n\u001b[0;32m      6\u001b[0m     \u001b[0mK\u001b[0m \u001b[1;33m=\u001b[0m \u001b[0mk1\u001b[0m\u001b[1;33m+\u001b[0m\u001b[1;36m2\u001b[0m\u001b[1;33m*\u001b[0m\u001b[0mk2\u001b[0m\u001b[1;33m+\u001b[0m\u001b[1;36m2\u001b[0m\u001b[1;33m*\u001b[0m\u001b[0mk3\u001b[0m\u001b[1;33m+\u001b[0m\u001b[0mk4\u001b[0m\u001b[1;33m\u001b[0m\u001b[0m\n",
      "\u001b[1;32m<ipython-input-4-e64a9387b55c>\u001b[0m in \u001b[0;36mf\u001b[1;34m(u)\u001b[0m\n\u001b[0;32m      1\u001b[0m \u001b[1;32mdef\u001b[0m \u001b[0mf\u001b[0m\u001b[1;33m(\u001b[0m\u001b[0mu\u001b[0m\u001b[1;33m)\u001b[0m\u001b[1;33m:\u001b[0m                         \u001b[1;31m#u sera une liste de 4 éléments : les position, x et y et les vitesses vx,vy\u001b[0m\u001b[1;33m\u001b[0m\u001b[0m\n\u001b[1;32m----> 2\u001b[1;33m     \u001b[0mx\u001b[0m \u001b[1;33m=\u001b[0m \u001b[0mu\u001b[0m\u001b[1;33m[\u001b[0m\u001b[1;36m0\u001b[0m\u001b[1;33m]\u001b[0m\u001b[1;33m\u001b[0m\u001b[0m\n\u001b[0m\u001b[0;32m      3\u001b[0m     \u001b[0my\u001b[0m \u001b[1;33m=\u001b[0m \u001b[0mu\u001b[0m\u001b[1;33m[\u001b[0m\u001b[1;36m1\u001b[0m\u001b[1;33m]\u001b[0m\u001b[1;33m\u001b[0m\u001b[0m\n\u001b[0;32m      4\u001b[0m     \u001b[0mvx\u001b[0m \u001b[1;33m=\u001b[0m \u001b[0mu\u001b[0m\u001b[1;33m[\u001b[0m\u001b[1;36m2\u001b[0m\u001b[1;33m]\u001b[0m\u001b[1;33m\u001b[0m\u001b[0m\n\u001b[0;32m      5\u001b[0m     \u001b[0mvy\u001b[0m \u001b[1;33m=\u001b[0m \u001b[0mu\u001b[0m\u001b[1;33m[\u001b[0m\u001b[1;36m3\u001b[0m\u001b[1;33m]\u001b[0m\u001b[1;33m\u001b[0m\u001b[0m\n",
      "\u001b[1;31mKeyboardInterrupt\u001b[0m: "
     ]
    }
   ],
   "source": [
    "HTML(anim.to_html5_video()) #On mets le tout en vidéo"
   ]
  },
  {
   "cell_type": "code",
   "execution_count": null,
   "metadata": {
    "collapsed": true
   },
   "outputs": [],
   "source": [
    "T = 1209600                                           #on applique le même raisonnement que pour la trajectoire lunaire\n",
    "dt = 1\n",
    "N = int(T/dt)+1\n",
    "def animate2(i):\n",
    "    line.set_data(a_rk4[:i,0],a_rk4[:i,1])\n",
    "    for n in range(N-1):\n",
    "        u_rk4[n+1]   = RK4_step(u_rk4[n], f, dt)\n",
    "    \n",
    "        xL=u_rk4[n+1][0]             \n",
    "        yL=u_rk4[n+1][1]\n",
    "    \n",
    "        a_rk4[n+1] = RK4_step(a_rk4[n],f_ast,dt)\n",
    "        a_rk4[:i+1,0] = a_rk4[n+1][0]\n",
    "        a_rk4[:i+1,1] = a_rk4[n+1][1]\n",
    "    return line"
   ]
  },
  {
   "cell_type": "code",
   "execution_count": null,
   "metadata": {
    "collapsed": true
   },
   "outputs": [],
   "source": [
    "anim = animation.FuncAnimation(fig, animate2, frames = 100000, interval = 100)"
   ]
  },
  {
   "cell_type": "code",
   "execution_count": null,
   "metadata": {
    "collapsed": true
   },
   "outputs": [],
   "source": [
    "HTML(anim.to_html5_video())"
   ]
  },
  {
   "cell_type": "markdown",
   "metadata": {},
   "source": [
    "Nous avons des problèmes avec les animations de nos trajectoires. Nos avons essayé plusieurs codes et tous ont \"l'air bons\" mais la vidéo met bcp bcp de temps à apparaitre (on intetrrompt notre code au-delà des 5min). Le code ci-dessus est inspiré des codes d'autres étudiants chez qui l'animation apparait. Nous ne savons pas trop pourquoi nos animations n'apparaissent pas. La seule explication est que la vidéo boucle infiniment mais on ne comprend pas pourquoi elle agirait de telle sorte."
   ]
  },
  {
   "cell_type": "markdown",
   "metadata": {},
   "source": [
    "6) Discution des résultats\n"
   ]
  },
  {
   "cell_type": "markdown",
   "metadata": {},
   "source": [
    "On introduit la solution exacte"
   ]
  },
  {
   "cell_type": "code",
   "execution_count": null,
   "metadata": {
    "collapsed": true
   },
   "outputs": [],
   "source": [
    "epsilon = 0.0549006           #excentricité théorique\n",
    "rmin = 362600000              #distance départ de la lune théorique\n",
    "theta0 = 0                    #angle de départ de la lune par rapport à l'horizontal dans notre repère.\n",
    "                              #! on prend theta = O sur l'horizontale à gauche\n",
    "dtheta = 2*pi/T               #on calcul le pas qu'il faut pour faire une période\n",
    "r_exact = numpy.empty(T)      #pour créer la liste de la taille T = période\n",
    "for n in range (T-1) :        #on calcul chaque point grâce l'équation théorique.\n",
    "    \n",
    "    r_exact [n] = rmin*(1+epsilon)/1+epsilon*cos(dtheta*n)"
   ]
  },
  {
   "cell_type": "markdown",
   "metadata": {},
   "source": [
    "l'excentricité théorique (0.0549006) est, au chiffre significatif près, la valeur que l'on a trouvé avec notre code.\n",
    "En ce qui concerne les valeurs des demi-axes, wikipédia donne des valeurs très proches des notres. \n",
    "https://fr.wikipedia.org/wiki/Lune\n",
    "En conclusion, notre travail nous semble cohérent avec les prédictions théoriques et a du sens physiquement parlant.\n",
    "Le seul problème réside dans nos animations qui ne fonctionnent pas et cela reste un mystère.\n"
   ]
  }
 ],
 "metadata": {
  "anaconda-cloud": {},
  "kernelspec": {
   "display_name": "Python [Root]",
   "language": "python",
   "name": "Python [Root]"
  },
  "language_info": {
   "codemirror_mode": {
    "name": "ipython",
    "version": 3
   },
   "file_extension": ".py",
   "mimetype": "text/x-python",
   "name": "python",
   "nbconvert_exporter": "python",
   "pygments_lexer": "ipython3",
   "version": "3.4.5"
  }
 },
 "nbformat": 4,
 "nbformat_minor": 0
}
